{
 "cells": [
  {
   "cell_type": "markdown",
   "id": "80f09909-8976-4e20-98cf-8598fb746686",
   "metadata": {},
   "source": [
    "# Data Science Tools and Ecosystem"
   ]
  },
  {
   "cell_type": "markdown",
   "id": "caea5435-9537-4082-87c6-ec2705088db9",
   "metadata": {},
   "source": [
    "In this notebook, Data Science Tools and Ecosystem are summarized."
   ]
  },
  {
   "cell_type": "markdown",
   "id": "4e2cc6c7-aeeb-4f1b-b322-ab54359f0fca",
   "metadata": {},
   "source": [
    "<b>Objectives:</b>\n",
    "<ul>\n",
    "<li>List of popular languages that Data Scientists</li>\n",
    "<li>Commonly used libraries by Data Scientists</li>\n",
    "<li>Data Scientists IDE</li>\n",
    "</ul>\n",
    "\n",
    "## Author\n",
    "Kaung Si Thu"
   ]
  },
  {
   "cell_type": "markdown",
   "id": "9cd3219d-2c2a-4ea0-a184-c52aa6207b8f",
   "metadata": {},
   "source": [
    "Some of the popular languages that Data Scientists use are:\n",
    "    <ol>\n",
    "    <li>Python</li>\n",
    "    <li>R</li>\n",
    "    <li>Java</li>\n",
    "    </ol>"
   ]
  },
  {
   "cell_type": "markdown",
   "id": "4baebe61-ee36-492c-aa4d-afbb0981bd8a",
   "metadata": {
    "tags": []
   },
   "source": [
    "Some of the commonly used libraries used by Data Scientists include:\n",
    "    <ol>\n",
    "    <li>Pandas</li>\n",
    "    <li>Scikit Learn</li>\n",
    "    <li>Matplotlib</li>\n",
    "    </ol>"
   ]
  },
  {
   "cell_type": "markdown",
   "id": "cd2897fa-9fc9-4f93-99cb-8910510dbbee",
   "metadata": {
    "tags": []
   },
   "source": [
    "<table>\n",
    "<tr>\n",
    "    <th style=\"border: 1px solid black\">Data Science Tools</th>\n",
    "<tr>\n",
    "<tr>\n",
    "    <td style=\"border: 1px solid black\">Jupyter Lab</td>\n",
    "<tr>\n",
    "<tr>\n",
    "    <td style=\"border: 1px solid black\">VS Code</td>\n",
    "<tr>\n",
    "<tr>\n",
    "    <td style=\"border: 1px solid black\">Anaconda</td>\n",
    "<tr>\n",
    "</table>"
   ]
  },
  {
   "cell_type": "markdown",
   "id": "2dd88c30-f241-4914-bcd4-54a64c0410e3",
   "metadata": {},
   "source": [
    "### Below are a few examples of evaluating arithmetic expressions in Python"
   ]
  },
  {
   "cell_type": "code",
   "execution_count": 4,
   "id": "2833f156-ab5a-4fa8-81f4-451371aafc0a",
   "metadata": {
    "tags": []
   },
   "outputs": [
    {
     "name": "stdout",
     "output_type": "stream",
     "text": [
      "17\n"
     ]
    }
   ],
   "source": [
    "#This a simple arithmetic expression to mutiply then add integers\n",
    "print((3*4)+5)"
   ]
  },
  {
   "cell_type": "code",
   "execution_count": 10,
   "id": "12c4a295-87de-492f-9f40-fbd23dc208cd",
   "metadata": {
    "tags": []
   },
   "outputs": [
    {
     "name": "stdout",
     "output_type": "stream",
     "text": [
      "200 minutes to hours:  3.33\n"
     ]
    }
   ],
   "source": [
    "#This will convert 200 minutes to hours by diving by 60\n",
    "print(\"200 minutes to hours: \", round(200/60,2))"
   ]
  },
  {
   "cell_type": "code",
   "execution_count": null,
   "id": "9f850a7a-12c0-40b4-a68e-e09da22e6755",
   "metadata": {},
   "outputs": [],
   "source": []
  }
 ],
 "metadata": {
  "kernelspec": {
   "display_name": "Python 3 (ipykernel)",
   "language": "python",
   "name": "python3"
  },
  "language_info": {
   "codemirror_mode": {
    "name": "ipython",
    "version": 3
   },
   "file_extension": ".py",
   "mimetype": "text/x-python",
   "name": "python",
   "nbconvert_exporter": "python",
   "pygments_lexer": "ipython3",
   "version": "3.11.5"
  }
 },
 "nbformat": 4,
 "nbformat_minor": 5
}
